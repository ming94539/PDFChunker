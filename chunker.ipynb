{
 "cells": [
  {
   "cell_type": "code",
   "execution_count": 55,
   "metadata": {},
   "outputs": [],
   "source": [
    "from llmsherpa.readers import LayoutPDFReader\n",
    "\n",
    "llmsherpa_api_url = \"https://readers.llmsherpa.com/api/document/developer/parseDocument?renderFormat=all\"\n",
    "# pdf_path = 'docs/Medical insurance.pdf'\n",
    "# pdf_path = 'docs/Office address.pdf'\n",
    "pdf_path = 'docs/doc3.pdf'\n",
    "# pdf_path = 'docs/table pdf.pdf'\n",
    "pdf_reader = LayoutPDFReader(llmsherpa_api_url)\n",
    "doc = pdf_reader.read_pdf(pdf_path)\n"
   ]
  },
  {
   "cell_type": "code",
   "execution_count": null,
   "metadata": {},
   "outputs": [],
   "source": []
  },
  {
   "cell_type": "code",
   "execution_count": 60,
   "metadata": {},
   "outputs": [
    {
     "data": {
      "text/plain": [
       "[<llmsherpa.readers.layout_reader.Paragraph at 0x16e5b3f10>,\n",
       " <llmsherpa.readers.layout_reader.Paragraph at 0x16e5b3f40>]"
      ]
     },
     "execution_count": 60,
     "metadata": {},
     "output_type": "execute_result"
    }
   ],
   "source": [
    "doc.chunks()"
   ]
  },
  {
   "cell_type": "code",
   "execution_count": 57,
   "metadata": {},
   "outputs": [
    {
     "name": "stdout",
     "output_type": "stream",
     "text": [
      "<llmsherpa.readers.layout_reader.Paragraph object at 0x16e5b3f10>\n",
      "<llmsherpa.readers.layout_reader.Paragraph object at 0x16e5b3f40>\n"
     ]
    }
   ],
   "source": [
    "for chunk in doc.chunks():\n",
    "    print(chunk)"
   ]
  },
  {
   "cell_type": "code",
   "execution_count": 51,
   "metadata": {},
   "outputs": [
    {
     "name": "stdout",
     "output_type": "stream",
     "text": [
      " | Disability Category | Participants | Ballots Completed | Ballots Incomplete/ Terminated | Results Accuracy | Time to complete\n",
      " | --- | --- | --- | --- | --- | ---\n",
      " | Blind | 5 | 1 | 4 | 34.5%, n=1 | 1199 sec, n=1\n",
      " | Low Vision | 5 | 2 | 3 | 98.3% n=2 (97.7%, n=3) | 1716 sec, n=3 (1934 sec, n=2)\n",
      " | Dexterity | 5 | 4 | 1 | 98.3%, n=4 | 1672.1 sec, n=4\n",
      " | Mobility | 3 | 3 | 0 | 95.4%, n=3 | 1416 sec, n=3\n",
      "\n"
     ]
    }
   ],
   "source": [
    "for table in doc.tables():\n",
    "    print(table.to_text())"
   ]
  },
  {
   "cell_type": "code",
   "execution_count": 48,
   "metadata": {},
   "outputs": [
    {
     "name": "stdout",
     "output_type": "stream",
     "text": [
      "Example table\n",
      "This is an example of a data table.\n"
     ]
    }
   ],
   "source": [
    "for section in doc.sections():\n",
    "    print(section.to_text())"
   ]
  },
  {
   "cell_type": "code",
   "execution_count": 58,
   "metadata": {},
   "outputs": [
    {
     "name": "stdout",
     "output_type": "stream",
     "text": [
      "<llmsherpa.readers.layout_reader.Paragraph object at 0x16e5b3f10>\n",
      "Clear Old Dates - You MUST clear bad/old dates oﬀ the calendar and make sure the new dates or updated with appropriate �me and loca�on, including old or updated scheduling order dates.\n",
      "\n",
      "<llmsherpa.readers.layout_reader.Paragraph object at 0x16e5b3f40>\n",
      "Mandatory Thursday Look Ahead - On Thursday, assistants must look at the calendar for the next upcoming week and look for conﬂicts such as double bookings, or events that need advance no�ce to the assigned atorney such as deadlines, deposi�ons, or court appearances, and to help prep for anything that is going forward.\n",
      "Also, to add any appointment to the ALP calendar that an atorney may have added to their calendar during the week (the calendar entry can stay the way it is on the aty’s private calendar but follow the guidelines above when you add it to the ALP calendar) Judicial Website - Check the judicial website (www.jud.ct.gov) for all cases versus our calendars for Trials, TMC’s, PTC’s, Hearings, and calendar events that can be taken oﬀ the calendar NO LATER THAN FRIDAY MORNING.\n",
      "Loca�on Overlaps - look for overlaps on loca�ons to see if one atorney can atend all court dates in that one loca�on.\n",
      "\n"
     ]
    }
   ],
   "source": [
    "for block in doc.chunks():\n",
    "    print(block)\n",
    "    print(block.to_text(include_children=True))\n",
    "    print()"
   ]
  },
  {
   "cell_type": "code",
   "execution_count": null,
   "metadata": {},
   "outputs": [],
   "source": []
  }
 ],
 "metadata": {
  "kernelspec": {
   "display_name": "pdfChunker",
   "language": "python",
   "name": "python3"
  },
  "language_info": {
   "codemirror_mode": {
    "name": "ipython",
    "version": 3
   },
   "file_extension": ".py",
   "mimetype": "text/x-python",
   "name": "python",
   "nbconvert_exporter": "python",
   "pygments_lexer": "ipython3",
   "version": "3.9.19"
  }
 },
 "nbformat": 4,
 "nbformat_minor": 2
}
